{
 "cells": [
  {
   "cell_type": "markdown",
   "id": "6425d700",
   "metadata": {
    "papermill": {
     "duration": 0.087434,
     "end_time": "2022-01-19T22:50:26.841832",
     "exception": false,
     "start_time": "2022-01-19T22:50:26.754398",
     "status": "completed"
    },
    "tags": []
   },
   "source": [
    "# Regression\n",
    "\n",
    "### Housing Price Prediction\n",
    "\n",
    "The goal of this competition entry is apply concepts I've learnt so far, and gain more practise in feature engineering and stacked models.\n",
    "\n",
    "As the missing features of this dataset are rather sparse, engineering them will mainly mean:\n",
    "\n",
    "* Imputing missing values\n",
    "* Dealing with outliers\n",
    "* Transforming variables\n",
    "* Label Encoding\n",
    "* Stabilizing variance/skewness\n",
    "* Aquiring dummy variables\n",
    "\n",
    "Model will be a sklearn base + XGBoost + LightGBM stack predicting the **SalePrice**."
   ]
  },
  {
   "cell_type": "markdown",
   "id": "5f05fac2",
   "metadata": {
    "papermill": {
     "duration": 0.087979,
     "end_time": "2022-01-19T22:50:27.015019",
     "exception": false,
     "start_time": "2022-01-19T22:50:26.927040",
     "status": "completed"
    },
    "tags": []
   },
   "source": [
    "### Credits & Inspiration\n",
    "* [Stacked Regression by Serigne](https://www.kaggle.com/serigne/stacked-regressions-top-4-on-leaderboard/notebook) - Absolutely stunning notebook that I've used as the template for my own explorations here. Taught me a lot about feature engineering and stacked modelling.\n",
    "* [Stacking Ensemble Machine Learning With Python by Jason Brownlee](https://machinelearningmastery.com/stacking-ensemble-machine-learning-with-python/) - Great tutorial on stacking models\n",
    "* [Comprehensive data exploration with Python by Pedro Marcelino](https://www.kaggle.com/pmarcelino/comprehensive-data-exploration-with-python) - In-depth EDA on this dataset\n",
    "* [A study on Regression applied to the Ames dataset by juliencs](https://www.kaggle.com/juliencs/a-study-on-regression-applied-to-the-ames-dataset) - Great notebook using linear regression on this dataset\n",
    "* [Missing Values, Ordinal data and stories\n",
    " by mitra mirshafiee](https://www.kaggle.com/mitramir5/missing-values-ordinal-data-and-stories) - Illustrative and educational notebook on handling missing values"
   ]
  },
  {
   "cell_type": "code",
   "execution_count": 44,
   "id": "b901ef99",
   "metadata": {
    "execution": {
     "iopub.execute_input": "2022-01-19T22:50:27.188610Z",
     "iopub.status.busy": "2022-01-19T22:50:27.187364Z",
     "iopub.status.idle": "2022-01-19T22:50:29.835927Z",
     "shell.execute_reply": "2022-01-19T22:50:29.835018Z",
     "shell.execute_reply.started": "2022-01-19T22:39:42.879457Z"
    },
    "papermill": {
     "duration": 2.736242,
     "end_time": "2022-01-19T22:50:29.836130",
     "exception": false,
     "start_time": "2022-01-19T22:50:27.099888",
     "status": "completed"
    },
    "tags": []
   },
   "outputs": [],
   "source": [
    "\n",
    "import numpy as np\n",
    "import pandas as pd\n",
    "\n",
    "#Visualizations\n",
    "import matplotlib.pyplot as plt\n",
    "import seaborn as sns\n",
    "%matplotlib inline\n",
    "plt.rcParams['figure.figsize'] = [12,6]\n",
    "sns.set(style=\"darkgrid\")\n",
    "\n",
    "#Statistics\n",
    "from scipy import stats\n",
    "from scipy.stats import norm, skew\n",
    "from scipy.special import boxcox1p\n",
    "\n",
    "#Float Output to 2 decimals\n",
    "pd.set_option('display.float_format', lambda x: '{:.2f}'.format(x))\n",
    "\n",
    "#Models\n",
    "from sklearn.preprocessing import LabelEncoder, OrdinalEncoder, RobustScaler\n",
    "from sklearn.linear_model import ElasticNet, Lasso,  BayesianRidge, LassoLarsIC\n",
    "from sklearn.ensemble import RandomForestRegressor,  GradientBoostingRegressor\n",
    "from sklearn.kernel_ridge import KernelRidge\n",
    "from sklearn.pipeline import make_pipeline\n",
    "from sklearn.base import BaseEstimator, TransformerMixin, RegressorMixin, clone\n",
    "from sklearn.model_selection import KFold, cross_val_score, train_test_split\n",
    "from sklearn.metrics import mean_squared_error\n",
    "import xgboost as xgb\n",
    "import lightgbm as lgb\n",
    "\n",
    "#Quality of life\n",
    "import warnings\n",
    "warnings.filterwarnings('ignore')"
   ]
  },
  {
   "cell_type": "code",
   "execution_count": 88,
   "id": "6d0cb8df",
   "metadata": {
    "execution": {
     "iopub.execute_input": "2022-01-19T22:50:30.017979Z",
     "iopub.status.busy": "2022-01-19T22:50:30.017213Z",
     "iopub.status.idle": "2022-01-19T22:50:30.103266Z",
     "shell.execute_reply": "2022-01-19T22:50:30.102605Z",
     "shell.execute_reply.started": "2022-01-19T22:39:42.894053Z"
    },
    "papermill": {
     "duration": 0.177139,
     "end_time": "2022-01-19T22:50:30.103423",
     "exception": false,
     "start_time": "2022-01-19T22:50:29.926284",
     "status": "completed"
    },
    "tags": []
   },
   "outputs": [],
   "source": [
    "#Importing datasets\n",
    "train = pd.read_csv(\"train.csv\")\n",
    "test = pd.read_csv(\"test.csv\")"
   ]
  },
  {
   "cell_type": "code",
   "execution_count": 89,
   "id": "b9687fc5",
   "metadata": {
    "execution": {
     "iopub.execute_input": "2022-01-19T22:50:30.293118Z",
     "iopub.status.busy": "2022-01-19T22:50:30.292374Z",
     "iopub.status.idle": "2022-01-19T22:50:30.318939Z",
     "shell.execute_reply": "2022-01-19T22:50:30.318200Z",
     "shell.execute_reply.started": "2022-01-19T22:39:42.947197Z"
    },
    "papermill": {
     "duration": 0.123881,
     "end_time": "2022-01-19T22:50:30.319092",
     "exception": false,
     "start_time": "2022-01-19T22:50:30.195211",
     "status": "completed"
    },
    "tags": []
   },
   "outputs": [
    {
     "data": {
      "text/html": [
       "<div>\n",
       "<style scoped>\n",
       "    .dataframe tbody tr th:only-of-type {\n",
       "        vertical-align: middle;\n",
       "    }\n",
       "\n",
       "    .dataframe tbody tr th {\n",
       "        vertical-align: top;\n",
       "    }\n",
       "\n",
       "    .dataframe thead th {\n",
       "        text-align: right;\n",
       "    }\n",
       "</style>\n",
       "<table border=\"1\" class=\"dataframe\">\n",
       "  <thead>\n",
       "    <tr style=\"text-align: right;\">\n",
       "      <th></th>\n",
       "      <th>Id</th>\n",
       "      <th>MSSubClass</th>\n",
       "      <th>MSZoning</th>\n",
       "      <th>LotFrontage</th>\n",
       "      <th>LotArea</th>\n",
       "      <th>Street</th>\n",
       "      <th>Alley</th>\n",
       "      <th>LotShape</th>\n",
       "      <th>LandContour</th>\n",
       "      <th>Utilities</th>\n",
       "      <th>...</th>\n",
       "      <th>PoolArea</th>\n",
       "      <th>PoolQC</th>\n",
       "      <th>Fence</th>\n",
       "      <th>MiscFeature</th>\n",
       "      <th>MiscVal</th>\n",
       "      <th>MoSold</th>\n",
       "      <th>YrSold</th>\n",
       "      <th>SaleType</th>\n",
       "      <th>SaleCondition</th>\n",
       "      <th>SalePrice</th>\n",
       "    </tr>\n",
       "  </thead>\n",
       "  <tbody>\n",
       "    <tr>\n",
       "      <th>0</th>\n",
       "      <td>1</td>\n",
       "      <td>60</td>\n",
       "      <td>RL</td>\n",
       "      <td>65.00</td>\n",
       "      <td>8450</td>\n",
       "      <td>Pave</td>\n",
       "      <td>NaN</td>\n",
       "      <td>Reg</td>\n",
       "      <td>Lvl</td>\n",
       "      <td>AllPub</td>\n",
       "      <td>...</td>\n",
       "      <td>0</td>\n",
       "      <td>NaN</td>\n",
       "      <td>NaN</td>\n",
       "      <td>NaN</td>\n",
       "      <td>0</td>\n",
       "      <td>2</td>\n",
       "      <td>2008</td>\n",
       "      <td>WD</td>\n",
       "      <td>Normal</td>\n",
       "      <td>208500</td>\n",
       "    </tr>\n",
       "    <tr>\n",
       "      <th>1</th>\n",
       "      <td>2</td>\n",
       "      <td>20</td>\n",
       "      <td>RL</td>\n",
       "      <td>80.00</td>\n",
       "      <td>9600</td>\n",
       "      <td>Pave</td>\n",
       "      <td>NaN</td>\n",
       "      <td>Reg</td>\n",
       "      <td>Lvl</td>\n",
       "      <td>AllPub</td>\n",
       "      <td>...</td>\n",
       "      <td>0</td>\n",
       "      <td>NaN</td>\n",
       "      <td>NaN</td>\n",
       "      <td>NaN</td>\n",
       "      <td>0</td>\n",
       "      <td>5</td>\n",
       "      <td>2007</td>\n",
       "      <td>WD</td>\n",
       "      <td>Normal</td>\n",
       "      <td>181500</td>\n",
       "    </tr>\n",
       "    <tr>\n",
       "      <th>2</th>\n",
       "      <td>3</td>\n",
       "      <td>60</td>\n",
       "      <td>RL</td>\n",
       "      <td>68.00</td>\n",
       "      <td>11250</td>\n",
       "      <td>Pave</td>\n",
       "      <td>NaN</td>\n",
       "      <td>IR1</td>\n",
       "      <td>Lvl</td>\n",
       "      <td>AllPub</td>\n",
       "      <td>...</td>\n",
       "      <td>0</td>\n",
       "      <td>NaN</td>\n",
       "      <td>NaN</td>\n",
       "      <td>NaN</td>\n",
       "      <td>0</td>\n",
       "      <td>9</td>\n",
       "      <td>2008</td>\n",
       "      <td>WD</td>\n",
       "      <td>Normal</td>\n",
       "      <td>223500</td>\n",
       "    </tr>\n",
       "    <tr>\n",
       "      <th>3</th>\n",
       "      <td>4</td>\n",
       "      <td>70</td>\n",
       "      <td>RL</td>\n",
       "      <td>60.00</td>\n",
       "      <td>9550</td>\n",
       "      <td>Pave</td>\n",
       "      <td>NaN</td>\n",
       "      <td>IR1</td>\n",
       "      <td>Lvl</td>\n",
       "      <td>AllPub</td>\n",
       "      <td>...</td>\n",
       "      <td>0</td>\n",
       "      <td>NaN</td>\n",
       "      <td>NaN</td>\n",
       "      <td>NaN</td>\n",
       "      <td>0</td>\n",
       "      <td>2</td>\n",
       "      <td>2006</td>\n",
       "      <td>WD</td>\n",
       "      <td>Abnorml</td>\n",
       "      <td>140000</td>\n",
       "    </tr>\n",
       "    <tr>\n",
       "      <th>4</th>\n",
       "      <td>5</td>\n",
       "      <td>60</td>\n",
       "      <td>RL</td>\n",
       "      <td>84.00</td>\n",
       "      <td>14260</td>\n",
       "      <td>Pave</td>\n",
       "      <td>NaN</td>\n",
       "      <td>IR1</td>\n",
       "      <td>Lvl</td>\n",
       "      <td>AllPub</td>\n",
       "      <td>...</td>\n",
       "      <td>0</td>\n",
       "      <td>NaN</td>\n",
       "      <td>NaN</td>\n",
       "      <td>NaN</td>\n",
       "      <td>0</td>\n",
       "      <td>12</td>\n",
       "      <td>2008</td>\n",
       "      <td>WD</td>\n",
       "      <td>Normal</td>\n",
       "      <td>250000</td>\n",
       "    </tr>\n",
       "  </tbody>\n",
       "</table>\n",
       "<p>5 rows × 81 columns</p>\n",
       "</div>"
      ],
      "text/plain": [
       "   Id  MSSubClass MSZoning  LotFrontage  LotArea Street Alley LotShape  \\\n",
       "0   1          60       RL        65.00     8450   Pave   NaN      Reg   \n",
       "1   2          20       RL        80.00     9600   Pave   NaN      Reg   \n",
       "2   3          60       RL        68.00    11250   Pave   NaN      IR1   \n",
       "3   4          70       RL        60.00     9550   Pave   NaN      IR1   \n",
       "4   5          60       RL        84.00    14260   Pave   NaN      IR1   \n",
       "\n",
       "  LandContour Utilities  ... PoolArea PoolQC Fence MiscFeature MiscVal MoSold  \\\n",
       "0         Lvl    AllPub  ...        0    NaN   NaN         NaN       0      2   \n",
       "1         Lvl    AllPub  ...        0    NaN   NaN         NaN       0      5   \n",
       "2         Lvl    AllPub  ...        0    NaN   NaN         NaN       0      9   \n",
       "3         Lvl    AllPub  ...        0    NaN   NaN         NaN       0      2   \n",
       "4         Lvl    AllPub  ...        0    NaN   NaN         NaN       0     12   \n",
       "\n",
       "  YrSold  SaleType  SaleCondition  SalePrice  \n",
       "0   2008        WD         Normal     208500  \n",
       "1   2007        WD         Normal     181500  \n",
       "2   2008        WD         Normal     223500  \n",
       "3   2006        WD        Abnorml     140000  \n",
       "4   2008        WD         Normal     250000  \n",
       "\n",
       "[5 rows x 81 columns]"
      ]
     },
     "execution_count": 89,
     "metadata": {},
     "output_type": "execute_result"
    }
   ],
   "source": [
    "#First look training set\n",
    "train.head()"
   ]
  },
  {
   "cell_type": "code",
   "execution_count": 90,
   "id": "bd39c9f1",
   "metadata": {
    "execution": {
     "iopub.execute_input": "2022-01-19T22:50:30.516451Z",
     "iopub.status.busy": "2022-01-19T22:50:30.509273Z",
     "iopub.status.idle": "2022-01-19T22:50:30.520951Z",
     "shell.execute_reply": "2022-01-19T22:50:30.520398Z",
     "shell.execute_reply.started": "2022-01-19T22:39:42.977032Z"
    },
    "papermill": {
     "duration": 0.117698,
     "end_time": "2022-01-19T22:50:30.521175",
     "exception": false,
     "start_time": "2022-01-19T22:50:30.403477",
     "status": "completed"
    },
    "tags": []
   },
   "outputs": [
    {
     "data": {
      "text/html": [
       "<div>\n",
       "<style scoped>\n",
       "    .dataframe tbody tr th:only-of-type {\n",
       "        vertical-align: middle;\n",
       "    }\n",
       "\n",
       "    .dataframe tbody tr th {\n",
       "        vertical-align: top;\n",
       "    }\n",
       "\n",
       "    .dataframe thead th {\n",
       "        text-align: right;\n",
       "    }\n",
       "</style>\n",
       "<table border=\"1\" class=\"dataframe\">\n",
       "  <thead>\n",
       "    <tr style=\"text-align: right;\">\n",
       "      <th></th>\n",
       "      <th>Id</th>\n",
       "      <th>MSSubClass</th>\n",
       "      <th>MSZoning</th>\n",
       "      <th>LotFrontage</th>\n",
       "      <th>LotArea</th>\n",
       "      <th>Street</th>\n",
       "      <th>Alley</th>\n",
       "      <th>LotShape</th>\n",
       "      <th>LandContour</th>\n",
       "      <th>Utilities</th>\n",
       "      <th>...</th>\n",
       "      <th>ScreenPorch</th>\n",
       "      <th>PoolArea</th>\n",
       "      <th>PoolQC</th>\n",
       "      <th>Fence</th>\n",
       "      <th>MiscFeature</th>\n",
       "      <th>MiscVal</th>\n",
       "      <th>MoSold</th>\n",
       "      <th>YrSold</th>\n",
       "      <th>SaleType</th>\n",
       "      <th>SaleCondition</th>\n",
       "    </tr>\n",
       "  </thead>\n",
       "  <tbody>\n",
       "    <tr>\n",
       "      <th>0</th>\n",
       "      <td>1461</td>\n",
       "      <td>20</td>\n",
       "      <td>RH</td>\n",
       "      <td>80.00</td>\n",
       "      <td>11622</td>\n",
       "      <td>Pave</td>\n",
       "      <td>NaN</td>\n",
       "      <td>Reg</td>\n",
       "      <td>Lvl</td>\n",
       "      <td>AllPub</td>\n",
       "      <td>...</td>\n",
       "      <td>120</td>\n",
       "      <td>0</td>\n",
       "      <td>NaN</td>\n",
       "      <td>MnPrv</td>\n",
       "      <td>NaN</td>\n",
       "      <td>0</td>\n",
       "      <td>6</td>\n",
       "      <td>2010</td>\n",
       "      <td>WD</td>\n",
       "      <td>Normal</td>\n",
       "    </tr>\n",
       "    <tr>\n",
       "      <th>1</th>\n",
       "      <td>1462</td>\n",
       "      <td>20</td>\n",
       "      <td>RL</td>\n",
       "      <td>81.00</td>\n",
       "      <td>14267</td>\n",
       "      <td>Pave</td>\n",
       "      <td>NaN</td>\n",
       "      <td>IR1</td>\n",
       "      <td>Lvl</td>\n",
       "      <td>AllPub</td>\n",
       "      <td>...</td>\n",
       "      <td>0</td>\n",
       "      <td>0</td>\n",
       "      <td>NaN</td>\n",
       "      <td>NaN</td>\n",
       "      <td>Gar2</td>\n",
       "      <td>12500</td>\n",
       "      <td>6</td>\n",
       "      <td>2010</td>\n",
       "      <td>WD</td>\n",
       "      <td>Normal</td>\n",
       "    </tr>\n",
       "    <tr>\n",
       "      <th>2</th>\n",
       "      <td>1463</td>\n",
       "      <td>60</td>\n",
       "      <td>RL</td>\n",
       "      <td>74.00</td>\n",
       "      <td>13830</td>\n",
       "      <td>Pave</td>\n",
       "      <td>NaN</td>\n",
       "      <td>IR1</td>\n",
       "      <td>Lvl</td>\n",
       "      <td>AllPub</td>\n",
       "      <td>...</td>\n",
       "      <td>0</td>\n",
       "      <td>0</td>\n",
       "      <td>NaN</td>\n",
       "      <td>MnPrv</td>\n",
       "      <td>NaN</td>\n",
       "      <td>0</td>\n",
       "      <td>3</td>\n",
       "      <td>2010</td>\n",
       "      <td>WD</td>\n",
       "      <td>Normal</td>\n",
       "    </tr>\n",
       "    <tr>\n",
       "      <th>3</th>\n",
       "      <td>1464</td>\n",
       "      <td>60</td>\n",
       "      <td>RL</td>\n",
       "      <td>78.00</td>\n",
       "      <td>9978</td>\n",
       "      <td>Pave</td>\n",
       "      <td>NaN</td>\n",
       "      <td>IR1</td>\n",
       "      <td>Lvl</td>\n",
       "      <td>AllPub</td>\n",
       "      <td>...</td>\n",
       "      <td>0</td>\n",
       "      <td>0</td>\n",
       "      <td>NaN</td>\n",
       "      <td>NaN</td>\n",
       "      <td>NaN</td>\n",
       "      <td>0</td>\n",
       "      <td>6</td>\n",
       "      <td>2010</td>\n",
       "      <td>WD</td>\n",
       "      <td>Normal</td>\n",
       "    </tr>\n",
       "    <tr>\n",
       "      <th>4</th>\n",
       "      <td>1465</td>\n",
       "      <td>120</td>\n",
       "      <td>RL</td>\n",
       "      <td>43.00</td>\n",
       "      <td>5005</td>\n",
       "      <td>Pave</td>\n",
       "      <td>NaN</td>\n",
       "      <td>IR1</td>\n",
       "      <td>HLS</td>\n",
       "      <td>AllPub</td>\n",
       "      <td>...</td>\n",
       "      <td>144</td>\n",
       "      <td>0</td>\n",
       "      <td>NaN</td>\n",
       "      <td>NaN</td>\n",
       "      <td>NaN</td>\n",
       "      <td>0</td>\n",
       "      <td>1</td>\n",
       "      <td>2010</td>\n",
       "      <td>WD</td>\n",
       "      <td>Normal</td>\n",
       "    </tr>\n",
       "  </tbody>\n",
       "</table>\n",
       "<p>5 rows × 80 columns</p>\n",
       "</div>"
      ],
      "text/plain": [
       "     Id  MSSubClass MSZoning  LotFrontage  LotArea Street Alley LotShape  \\\n",
       "0  1461          20       RH        80.00    11622   Pave   NaN      Reg   \n",
       "1  1462          20       RL        81.00    14267   Pave   NaN      IR1   \n",
       "2  1463          60       RL        74.00    13830   Pave   NaN      IR1   \n",
       "3  1464          60       RL        78.00     9978   Pave   NaN      IR1   \n",
       "4  1465         120       RL        43.00     5005   Pave   NaN      IR1   \n",
       "\n",
       "  LandContour Utilities  ... ScreenPorch PoolArea PoolQC  Fence MiscFeature  \\\n",
       "0         Lvl    AllPub  ...         120        0    NaN  MnPrv         NaN   \n",
       "1         Lvl    AllPub  ...           0        0    NaN    NaN        Gar2   \n",
       "2         Lvl    AllPub  ...           0        0    NaN  MnPrv         NaN   \n",
       "3         Lvl    AllPub  ...           0        0    NaN    NaN         NaN   \n",
       "4         HLS    AllPub  ...         144        0    NaN    NaN         NaN   \n",
       "\n",
       "  MiscVal MoSold  YrSold  SaleType  SaleCondition  \n",
       "0       0      6    2010        WD         Normal  \n",
       "1   12500      6    2010        WD         Normal  \n",
       "2       0      3    2010        WD         Normal  \n",
       "3       0      6    2010        WD         Normal  \n",
       "4       0      1    2010        WD         Normal  \n",
       "\n",
       "[5 rows x 80 columns]"
      ]
     },
     "execution_count": 90,
     "metadata": {},
     "output_type": "execute_result"
    }
   ],
   "source": [
    "#First look test set\n",
    "test.head()"
   ]
  },
  {
   "cell_type": "code",
   "execution_count": 91,
   "id": "bd573cc9",
   "metadata": {
    "execution": {
     "iopub.execute_input": "2022-01-19T22:50:30.710191Z",
     "iopub.status.busy": "2022-01-19T22:50:30.709463Z",
     "iopub.status.idle": "2022-01-19T22:50:30.711855Z",
     "shell.execute_reply": "2022-01-19T22:50:30.711198Z",
     "shell.execute_reply.started": "2022-01-19T22:39:43.000922Z"
    },
    "papermill": {
     "duration": 0.10484,
     "end_time": "2022-01-19T22:50:30.712110",
     "exception": false,
     "start_time": "2022-01-19T22:50:30.607270",
     "status": "completed"
    },
    "tags": []
   },
   "outputs": [],
   "source": [
    "#Saving then dropping Id column as it does not impact our prediction\n",
    "train_ID = train['Id']\n",
    "test_ID = test['Id']\n",
    "\n",
    "train.drop(\"Id\", axis = 1, inplace = True)\n",
    "test.drop(\"Id\", axis = 1, inplace = True)"
   ]
  },
  {
   "cell_type": "markdown",
   "id": "aaf94c35",
   "metadata": {
    "papermill": {
     "duration": 0.087695,
     "end_time": "2022-01-19T22:50:30.886086",
     "exception": false,
     "start_time": "2022-01-19T22:50:30.798391",
     "status": "completed"
    },
    "tags": []
   },
   "source": [
    "### Outliers"
   ]
  },
  {
   "cell_type": "code",
   "execution_count": 92,
   "id": "29f88386",
   "metadata": {
    "execution": {
     "iopub.execute_input": "2022-01-19T22:50:31.072995Z",
     "iopub.status.busy": "2022-01-19T22:50:31.072231Z",
     "iopub.status.idle": "2022-01-19T22:50:31.565091Z",
     "shell.execute_reply": "2022-01-19T22:50:31.565632Z",
     "shell.execute_reply.started": "2022-01-19T22:39:43.015843Z"
    },
    "papermill": {
     "duration": 0.590155,
     "end_time": "2022-01-19T22:50:31.565823",
     "exception": false,
     "start_time": "2022-01-19T22:50:30.975668",
     "status": "completed"
    },
    "tags": []
   },
   "outputs": [
    {
     "data": {
      "image/png": "[encoded data removed]",
      "text/plain": [
       "<Figure size 864x432 with 1 Axes>"
      ]
     },
     "metadata": {},
     "output_type": "display_data"
    }
   ],
   "source": [
    "#visualizing outliers, seen in bottom right.\n",
    "sns.scatterplot(data=train, x='GrLivArea', y='SalePrice');"
   ]
  },
  {
   "cell_type": "code",
   "execution_count": 93,
   "id": "7412a05f",
   "metadata": {},
   "outputs": [
    {
     "data": {
      "image/png": "[encoded data removed]",
      "text/plain": [
       "<Figure size 864x432 with 1 Axes>"
      ]
     },
     "metadata": {},
     "output_type": "display_data"
    }
   ],
   "source": [
    "df = pd.concat((train, test)).reset_index(drop=True)\n",
    "\n",
    "GrLivArea_quantile = df[\"GrLivArea\"].quantile(0.99)\n",
    "SalePrice_quantile = df[\"SalePrice\"].quantile(0.99)\n",
    "\n",
    "df = df[(df[\"SalePrice\"] < SalePrice_quantile) & (df[\"GrLivArea\"] < GrLivArea_quantile)]\n",
    "\n",
    "sns.scatterplot(data=df, x='GrLivArea', y='SalePrice');"
   ]
  },
  {
   "cell_type": "code",
   "execution_count": 94,
   "id": "41aea26d",
   "metadata": {},
   "outputs": [
    {
     "data": {
      "text/plain": [
       "MSSubClass         15\n",
       "MSZoning            5\n",
       "LotFrontage       108\n",
       "LotArea          1047\n",
       "Street              2\n",
       "                 ... \n",
       "MoSold             12\n",
       "YrSold              5\n",
       "SaleType            9\n",
       "SaleCondition       6\n",
       "SalePrice         641\n",
       "Length: 80, dtype: int64"
      ]
     },
     "execution_count": 94,
     "metadata": {},
     "output_type": "execute_result"
    }
   ],
   "source": [
    "df.nunique()"
   ]
  },
  {
   "cell_type": "markdown",
   "id": "98152c77",
   "metadata": {
    "papermill": {
     "duration": 0.091019,
     "end_time": "2022-01-19T22:50:32.427025",
     "exception": false,
     "start_time": "2022-01-19T22:50:32.336006",
     "status": "completed"
    },
    "tags": []
   },
   "source": [
    "### Univariate Analysis SalePrice"
   ]
  },
  {
   "cell_type": "code",
   "execution_count": 95,
   "id": "48bd63ee",
   "metadata": {
    "execution": {
     "iopub.execute_input": "2022-01-19T22:50:32.627751Z",
     "iopub.status.busy": "2022-01-19T22:50:32.625877Z",
     "iopub.status.idle": "2022-01-19T22:50:33.537590Z",
     "shell.execute_reply": "2022-01-19T22:50:33.537002Z",
     "shell.execute_reply.started": "2022-01-19T22:39:43.550133Z"
    },
    "papermill": {
     "duration": 1.021093,
     "end_time": "2022-01-19T22:50:33.537762",
     "exception": false,
     "start_time": "2022-01-19T22:50:32.516669",
     "status": "completed"
    },
    "tags": []
   },
   "outputs": [
    {
     "data": {
      "image/png": "[encoded data removed]",
      "text/plain": [
       "<Figure size 864x432 with 1 Axes>"
      ]
     },
     "metadata": {},
     "output_type": "display_data"
    },
    {
     "data": {
      "image/png": "[encoded data removed]",
      "text/plain": [
       "<Figure size 864x432 with 1 Axes>"
      ]
     },
     "metadata": {},
     "output_type": "display_data"
    }
   ],
   "source": [
    "sns.distplot(df['SalePrice'] , fit=norm);\n",
    "\n",
    "#Fitted parameters used by function\n",
    "(mu, sigma) = norm.fit(df['SalePrice'])\n",
    "\n",
    "#Visualize Normal Distribution\n",
    "plt.legend(['Normal dist. ($\\mu=$ {:.0f} and $\\sigma=$ {:.0f} )'.format(mu, sigma)],\n",
    "            loc='best')\n",
    "plt.ylabel('Frequency')\n",
    "plt.title('SalePrice distribution')\n",
    "\n",
    "#Visualize Quantile-Quantile plot\n",
    "fig = plt.figure()\n",
    "res = stats.probplot(df['SalePrice'], plot=plt)\n",
    "plt.show()"
   ]
  },
  {
   "cell_type": "markdown",
   "id": "4b7ae710",
   "metadata": {
    "papermill": {
     "duration": 0.092518,
     "end_time": "2022-01-19T22:50:33.723727",
     "exception": false,
     "start_time": "2022-01-19T22:50:33.631209",
     "status": "completed"
    },
    "tags": []
   },
   "source": [
    "The target variable is right skewed, which is a problem for our model as it needs to be normally distributed. This means we need to apply a Log transformation."
   ]
  },
  {
   "cell_type": "markdown",
   "id": "ffef77d0",
   "metadata": {
    "execution": {
     "iopub.execute_input": "2022-01-17T08:02:56.058218Z",
     "iopub.status.busy": "2022-01-17T08:02:56.057931Z",
     "iopub.status.idle": "2022-01-17T08:02:56.062514Z",
     "shell.execute_reply": "2022-01-17T08:02:56.061625Z",
     "shell.execute_reply.started": "2022-01-17T08:02:56.058186Z"
    },
    "papermill": {
     "duration": 0.093658,
     "end_time": "2022-01-19T22:50:33.909060",
     "exception": false,
     "start_time": "2022-01-19T22:50:33.815402",
     "status": "completed"
    },
    "tags": []
   },
   "source": [
    "### Log transformation"
   ]
  },
  {
   "cell_type": "code",
   "execution_count": 96,
   "id": "04a43f9f",
   "metadata": {
    "execution": {
     "iopub.execute_input": "2022-01-19T22:50:34.098379Z",
     "iopub.status.busy": "2022-01-19T22:50:34.097547Z",
     "iopub.status.idle": "2022-01-19T22:50:34.829768Z",
     "shell.execute_reply": "2022-01-19T22:50:34.830360Z",
     "shell.execute_reply.started": "2022-01-19T22:39:44.072122Z"
    },
    "papermill": {
     "duration": 0.830738,
     "end_time": "2022-01-19T22:50:34.830550",
     "exception": false,
     "start_time": "2022-01-19T22:50:33.999812",
     "status": "completed"
    },
    "tags": []
   },
   "outputs": [
    {
     "data": {
      "image/png": "[encoded data removed]",
      "text/plain": [
       "<Figure size 864x432 with 1 Axes>"
      ]
     },
     "metadata": {},
     "output_type": "display_data"
    },
    {
     "data": {
      "image/png": "[encoded data removed]",
      "text/plain": [
       "<Figure size 864x432 with 1 Axes>"
      ]
     },
     "metadata": {},
     "output_type": "display_data"
    }
   ],
   "source": [
    "#Using numpy log1p fuction, which applies log(1+x) to elements of the column\n",
    "df[\"SalePrice\"] = np.log1p(df[\"SalePrice\"])\n",
    "\n",
    "sns.distplot(df['SalePrice'] , fit=norm);\n",
    "\n",
    "#Fitted parameters used by function\n",
    "(mu, sigma) = norm.fit(df['SalePrice'])\n",
    "\n",
    "#Visualize Normal Distribution\n",
    "plt.legend(['Normal dist. ($\\mu=$ {:.2f} and $\\sigma=$ {:.2f} )'.format(mu, sigma)],\n",
    "            loc='best')\n",
    "plt.ylabel('Frequency')\n",
    "plt.title('SalePrice distribution')\n",
    "\n",
    "#Visualize Quantile-Quantile plot\n",
    "fig = plt.figure()\n",
    "res = stats.probplot(df['SalePrice'], plot=plt)\n",
    "plt.show()"
   ]
  },
  {
   "cell_type": "markdown",
   "id": "654749b3",
   "metadata": {
    "papermill": {
     "duration": 0.095726,
     "end_time": "2022-01-19T22:50:35.023705",
     "exception": false,
     "start_time": "2022-01-19T22:50:34.927979",
     "status": "completed"
    },
    "tags": []
   },
   "source": [
    "The SalePrice has been transformed to be normally distributed."
   ]
  },
  {
   "cell_type": "markdown",
   "id": "0fac529c",
   "metadata": {
    "papermill": {
     "duration": 0.095061,
     "end_time": "2022-01-19T22:50:35.214804",
     "exception": false,
     "start_time": "2022-01-19T22:50:35.119743",
     "status": "completed"
    },
    "tags": []
   },
   "source": [
    "### Data Correlation"
   ]
  },
  {
   "cell_type": "code",
   "execution_count": 97,
   "id": "8083f097",
   "metadata": {
    "execution": {
     "iopub.execute_input": "2022-01-19T22:50:35.409868Z",
     "iopub.status.busy": "2022-01-19T22:50:35.409110Z",
     "iopub.status.idle": "2022-01-19T22:50:36.596835Z",
     "shell.execute_reply": "2022-01-19T22:50:36.596302Z",
     "shell.execute_reply.started": "2022-01-19T22:39:44.617118Z"
    },
    "papermill": {
     "duration": 1.288108,
     "end_time": "2022-01-19T22:50:36.596983",
     "exception": false,
     "start_time": "2022-01-19T22:50:35.308875",
     "status": "completed"
    },
    "tags": []
   },
   "outputs": [
    {
     "data": {
      "image/png": "[encoded data removed]",
      "text/plain": [
       "<Figure size 720x720 with 2 Axes>"
      ]
     },
     "metadata": {},
     "output_type": "display_data"
    }
   ],
   "source": [
    "#Correlation map to understand how other features relate to SalePrice\n",
    "corrmat = df.corr()\n",
    "mask = np.zeros_like(corrmat)\n",
    "mask[np.triu_indices_from(mask)] = True\n",
    "\n",
    "with sns.axes_style(\"white\"):\n",
    "\n",
    "    f, ax = plt.subplots(figsize=(10, 10))\n",
    "    sns.heatmap(corrmat, mask=mask, ax=ax, cbar_kws={\"shrink\": .82},vmax=.9, cmap='coolwarm', square=True)"
   ]
  },
  {
   "cell_type": "markdown",
   "id": "f6fb8c2d",
   "metadata": {
    "papermill": {
     "duration": 0.098205,
     "end_time": "2022-01-19T22:50:36.793160",
     "exception": false,
     "start_time": "2022-01-19T22:50:36.694955",
     "status": "completed"
    },
    "tags": []
   },
   "source": [
    "We can immediately spot how the OverallQual and GrLivArea features have the high positive correlation with SalePrice."
   ]
  },
  {
   "cell_type": "markdown",
   "id": "15c9996d",
   "metadata": {
    "papermill": {
     "duration": 0.096341,
     "end_time": "2022-01-19T22:50:36.986895",
     "exception": false,
     "start_time": "2022-01-19T22:50:36.890554",
     "status": "completed"
    },
    "tags": []
   },
   "source": [
    "### Feature Engineering\n",
    "Concatenating training and test set into same dataframe for preprocessing. Our feature engineering mainly revolves around harmonizing values so they more accurately reflect reality, whilst increasing predictions.\n",
    "\n",
    "*version 6 note: **data leakage will occur** since we impute values based on test+train datasets, leading to a too optimistic score. In future version we will calculate compute missing values and apply Box-Cox seperately.*"
   ]
  },
  {
   "cell_type": "code",
   "execution_count": 98,
   "id": "e4c75170",
   "metadata": {
    "execution": {
     "iopub.execute_input": "2022-01-19T22:50:37.185936Z",
     "iopub.status.busy": "2022-01-19T22:50:37.185220Z",
     "iopub.status.idle": "2022-01-19T22:50:37.218817Z",
     "shell.execute_reply": "2022-01-19T22:50:37.218147Z",
     "shell.execute_reply.started": "2022-01-19T22:39:45.624242Z"
    },
    "papermill": {
     "duration": 0.13427,
     "end_time": "2022-01-19T22:50:37.218979",
     "exception": false,
     "start_time": "2022-01-19T22:50:37.084709",
     "status": "completed"
    },
    "tags": []
   },
   "outputs": [
    {
     "name": "stdout",
     "output_type": "stream",
     "text": [
      "(1460, 80)\n",
      "(1459, 79)\n",
      "(2919, 79)\n"
     ]
    }
   ],
   "source": [
    "#Creating index for splitting datasets\n",
    "i_train = train.shape[0]\n",
    "i_test = test.shape[0]\n",
    "\n",
    "#Setting y_train\n",
    "y_train = train.SalePrice.values\n",
    "\n",
    "#Concatenating datasets\n",
    "df_concat = pd.concat((train, test))\n",
    "df_concat.drop(['SalePrice'], axis=1, inplace=True)\n",
    "\n",
    "#Printing shape of datasets\n",
    "print(train.shape)\n",
    "print(test.shape)\n",
    "print(df_concat.shape)"
   ]
  },
  {
   "cell_type": "markdown",
   "id": "f3479b19",
   "metadata": {
    "papermill": {
     "duration": 0.098222,
     "end_time": "2022-01-19T22:50:37.416043",
     "exception": false,
     "start_time": "2022-01-19T22:50:37.317821",
     "status": "completed"
    },
    "tags": []
   },
   "source": [
    "### Missing Data"
   ]
  },
  {
   "cell_type": "code",
   "execution_count": 99,
   "id": "a13cd3bd",
   "metadata": {
    "execution": {
     "iopub.execute_input": "2022-01-19T22:50:37.617911Z",
     "iopub.status.busy": "2022-01-19T22:50:37.617177Z",
     "iopub.status.idle": "2022-01-19T22:50:37.643974Z",
     "shell.execute_reply": "2022-01-19T22:50:37.643407Z",
     "shell.execute_reply.started": "2022-01-19T22:39:45.650278Z"
    },
    "papermill": {
     "duration": 0.131369,
     "end_time": "2022-01-19T22:50:37.644125",
     "exception": false,
     "start_time": "2022-01-19T22:50:37.512756",
     "status": "completed"
    },
    "tags": []
   },
   "outputs": [
    {
     "data": {
      "text/html": [
       "<div>\n",
       "<style scoped>\n",
       "    .dataframe tbody tr th:only-of-type {\n",
       "        vertical-align: middle;\n",
       "    }\n",
       "\n",
       "    .dataframe tbody tr th {\n",
       "        vertical-align: top;\n",
       "    }\n",
       "\n",
       "    .dataframe thead th {\n",
       "        text-align: right;\n",
       "    }\n",
       "</style>\n",
       "<table border=\"1\" class=\"dataframe\">\n",
       "  <thead>\n",
       "    <tr style=\"text-align: right;\">\n",
       "      <th></th>\n",
       "      <th>Missing %</th>\n",
       "    </tr>\n",
       "  </thead>\n",
       "  <tbody>\n",
       "    <tr>\n",
       "      <th>PoolQC</th>\n",
       "      <td>99.66</td>\n",
       "    </tr>\n",
       "    <tr>\n",
       "      <th>MiscFeature</th>\n",
       "      <td>96.40</td>\n",
       "    </tr>\n",
       "    <tr>\n",
       "      <th>Alley</th>\n",
       "      <td>93.22</td>\n",
       "    </tr>\n",
       "    <tr>\n",
       "      <th>Fence</th>\n",
       "      <td>80.44</td>\n",
       "    </tr>\n",
       "    <tr>\n",
       "      <th>FireplaceQu</th>\n",
       "      <td>48.65</td>\n",
       "    </tr>\n",
       "  </tbody>\n",
       "</table>\n",
       "</div>"
      ],
      "text/plain": [
       "             Missing %\n",
       "PoolQC           99.66\n",
       "MiscFeature      96.40\n",
       "Alley            93.22\n",
       "Fence            80.44\n",
       "FireplaceQu      48.65"
      ]
     },
     "execution_count": 99,
     "metadata": {},
     "output_type": "execute_result"
    }
   ],
   "source": [
    "#Creating dataframe with percentages of missing values\n",
    "df_concat_na = (df_concat.isnull().sum() / len(df_concat)) * 100\n",
    "\n",
    "#Sorting by percentages of missing values\n",
    "df_concat_na = df_concat_na.sort_values(ascending=False)[:20] #values of missing percentages after index 20 drop to around 0.03.. \n",
    "\n",
    "missing_values = pd.DataFrame({'Missing %' :df_concat_na})\n",
    "missing_values.head()"
   ]
  },
  {
   "cell_type": "code",
   "execution_count": 100,
   "id": "89774a64",
   "metadata": {
    "execution": {
     "iopub.execute_input": "2022-01-19T22:50:37.870243Z",
     "iopub.status.busy": "2022-01-19T22:50:37.845323Z",
     "iopub.status.idle": "2022-01-19T22:50:38.315105Z",
     "shell.execute_reply": "2022-01-19T22:50:38.315658Z",
     "shell.execute_reply.started": "2022-01-19T22:39:45.673152Z"
    },
    "papermill": {
     "duration": 0.574248,
     "end_time": "2022-01-19T22:50:38.315836",
     "exception": false,
     "start_time": "2022-01-19T22:50:37.741588",
     "status": "completed"
    },
    "tags": []
   },
   "outputs": [
    {
     "data": {
      "image/png": "[encoded data removed]",
      "text/plain": [
       "<Figure size 864x432 with 1 Axes>"
      ]
     },
     "metadata": {},
     "output_type": "display_data"
    }
   ],
   "source": [
    "#Visualizing missing values by feauture\n",
    "sns.barplot(x=df_concat_na.index, y=df_concat_na)\n",
    "plt.xticks(rotation='90')\n",
    "plt.xlabel('Features', fontsize=15)\n",
    "plt.ylabel('% of missing values', fontsize=15)\n",
    "plt.title('Percent missing data by feature', fontsize=15);"
   ]
  },
  {
   "cell_type": "markdown",
   "id": "8acf7299",
   "metadata": {
    "papermill": {
     "duration": 0.098086,
     "end_time": "2022-01-19T22:50:38.512758",
     "exception": false,
     "start_time": "2022-01-19T22:50:38.414672",
     "status": "completed"
    },
    "tags": []
   },
   "source": [
    "We clearly see on where we need to focus our work.\n",
    "1. Coming up with a strategy to the missing values with over 80% NAs\n",
    "2. Defining approach in imputing other missing values "
   ]
  },
  {
   "cell_type": "markdown",
   "id": "96eb36f3",
   "metadata": {
    "papermill": {
     "duration": 0.099341,
     "end_time": "2022-01-19T22:50:38.711054",
     "exception": false,
     "start_time": "2022-01-19T22:50:38.611713",
     "status": "completed"
    },
    "tags": []
   },
   "source": [
    "### Imputing Missing Values\n",
    "We will handle missing values by descending order of %NA. For each feature we'll first learn what we can from the description provided with the datasets, and secondly, provide our method for dealing with the missing values."
   ]
  },
  {
   "cell_type": "code",
   "execution_count": 101,
   "id": "c2f88ada",
   "metadata": {},
   "outputs": [],
   "source": [
    "to_drop = list(df_concat_na[df_concat_na>30].index)\n",
    "df.drop(to_drop,axis=1,inplace=True)"
   ]
  },
  {
   "cell_type": "markdown",
   "id": "9270a5af",
   "metadata": {
    "papermill": {
     "duration": 0.098187,
     "end_time": "2022-01-19T22:50:40.951332",
     "exception": false,
     "start_time": "2022-01-19T22:50:40.853145",
     "status": "completed"
    },
    "tags": []
   },
   "source": [
    "**LotFrontage**: Linear feet of street connected to property\n",
    "\n",
    "We assume here that neighborhoods contrain similar houses to fill in missing values by median LotFrontage per Neighborhood. Computing median has to be split per dataset, so as to not cause data leakage."
   ]
  },
  {
   "cell_type": "code",
   "execution_count": 102,
   "id": "a80a3c2a",
   "metadata": {
    "execution": {
     "iopub.execute_input": "2022-01-19T22:50:41.157775Z",
     "iopub.status.busy": "2022-01-19T22:50:41.157037Z",
     "iopub.status.idle": "2022-01-19T22:50:41.170026Z",
     "shell.execute_reply": "2022-01-19T22:50:41.170510Z",
     "shell.execute_reply.started": "2022-01-19T22:39:46.304538Z"
    },
    "papermill": {
     "duration": 0.11996,
     "end_time": "2022-01-19T22:50:41.170712",
     "exception": false,
     "start_time": "2022-01-19T22:50:41.050752",
     "status": "completed"
    },
    "tags": []
   },
   "outputs": [],
   "source": [
    "df[\"LotFrontage\"] = df.groupby(\"Neighborhood\")[\"LotFrontage\"].transform(\n",
    "    lambda x: x.fillna(x.median()))"
   ]
  },
  {
   "cell_type": "markdown",
   "id": "821f30be",
   "metadata": {
    "papermill": {
     "duration": 0.106481,
     "end_time": "2022-01-19T22:50:41.585378",
     "exception": false,
     "start_time": "2022-01-19T22:50:41.478897",
     "status": "completed"
    },
    "tags": []
   },
   "source": [
    "**GarageType**: Garage location\n",
    "\t\t\n",
    "       2Types\tMore than one type of garage\n",
    "       Attchd\tAttached to home\n",
    "       Basment\tBasement Garage\n",
    "       BuiltIn\tBuilt-In (Garage part of house - typically has room above garage)\n",
    "       CarPort\tCar Port\n",
    "       Detchd\tDetached from home\n",
    "       NA\tNo Garage\n",
    "\t\t\n",
    "**GarageFinish**: Interior finish of the garage\n",
    "\n",
    "       Fin\tFinished\n",
    "       RFn\tRough Finished\t\n",
    "       Unf\tUnfinished\n",
    "       NA\tNo Garage\n",
    "\n",
    "**GarageQual**: Garage quality\n",
    "\n",
    "       Ex\tExcellent\n",
    "       Gd\tGood\n",
    "       TA\tTypical/Average\n",
    "       Fa\tFair\n",
    "       Po\tPoor\n",
    "       NA\tNo Garage\n",
    "\t\t\n",
    "**GarageCond**: Garage condition\n",
    "\n",
    "       Ex\tExcellent\n",
    "       Gd\tGood\n",
    "       TA\tTypical/Average\n",
    "       Fa\tFair\n",
    "       Po\tPoor\n",
    "       NA\tNo Garage\n",
    "       \n",
    "NA means lack of this feature, so we fill missing values with None       "
   ]
  },
  {
   "cell_type": "code",
   "execution_count": 105,
   "id": "55ebe2d6",
   "metadata": {
    "execution": {
     "iopub.execute_input": "2022-01-19T22:50:41.794873Z",
     "iopub.status.busy": "2022-01-19T22:50:41.793955Z",
     "iopub.status.idle": "2022-01-19T22:50:41.796724Z",
     "shell.execute_reply": "2022-01-19T22:50:41.797274Z",
     "shell.execute_reply.started": "2022-01-19T22:39:46.335828Z"
    },
    "papermill": {
     "duration": 0.111176,
     "end_time": "2022-01-19T22:50:41.797446",
     "exception": false,
     "start_time": "2022-01-19T22:50:41.686270",
     "status": "completed"
    },
    "tags": []
   },
   "outputs": [],
   "source": [
    "for col in ('GarageType', 'GarageFinish', 'GarageQual', 'GarageCond'):\n",
    "    df[col].fillna('None',inplace=True)"
   ]
  },
  {
   "cell_type": "markdown",
   "id": "79f5e6ea",
   "metadata": {
    "papermill": {
     "duration": 0.101264,
     "end_time": "2022-01-19T22:50:41.997876",
     "exception": false,
     "start_time": "2022-01-19T22:50:41.896612",
     "status": "completed"
    },
    "tags": []
   },
   "source": [
    "**GarageYrBlt**: Year garage was built\n",
    "\n",
    "**GarageCars**: Size of garage in car capacity\n",
    "\n",
    "**GarageArea**: Size of garage in square feet\n",
    "\n",
    "Missing numerical values will be replaced by 0"
   ]
  },
  {
   "cell_type": "code",
   "execution_count": 106,
   "id": "80280642",
   "metadata": {
    "execution": {
     "iopub.execute_input": "2022-01-19T22:50:42.202761Z",
     "iopub.status.busy": "2022-01-19T22:50:42.201726Z",
     "iopub.status.idle": "2022-01-19T22:50:42.207159Z",
     "shell.execute_reply": "2022-01-19T22:50:42.207747Z",
     "shell.execute_reply.started": "2022-01-19T22:39:46.350972Z"
    },
    "papermill": {
     "duration": 0.109969,
     "end_time": "2022-01-19T22:50:42.207926",
     "exception": false,
     "start_time": "2022-01-19T22:50:42.097957",
     "status": "completed"
    },
    "tags": []
   },
   "outputs": [],
   "source": [
    "for col in ('GarageYrBlt', 'GarageArea', 'GarageCars','BsmtFinSF1', 'BsmtFinSF2', 'BsmtUnfSF','TotalBsmtSF', 'BsmtHalfBath', 'BsmtFullBath'):\n",
    "    avg=df[col].mean()\n",
    "    df[col].fillna(avg,inplace=True)"
   ]
  },
  {
   "cell_type": "markdown",
   "id": "f5635b10",
   "metadata": {
    "papermill": {
     "duration": 0.09994,
     "end_time": "2022-01-19T22:50:42.406826",
     "exception": false,
     "start_time": "2022-01-19T22:50:42.306886",
     "status": "completed"
    },
    "tags": []
   },
   "source": [
    "**BsmtQual**: Evaluates the height of the basement\n",
    "\n",
    "       Ex\tExcellent (100+ inches)\t\n",
    "       Gd\tGood (90-99 inches)\n",
    "       TA\tTypical (80-89 inches)\n",
    "       Fa\tFair (70-79 inches)\n",
    "       Po\tPoor (<70 inches\n",
    "       NA\tNo Basement\n",
    "\t\t\n",
    "**BsmtCond**: Evaluates the general condition of the basement\n",
    "\n",
    "       Ex\tExcellent\n",
    "       Gd\tGood\n",
    "       TA\tTypical - slight dampness allowed\n",
    "       Fa\tFair - dampness or some cracking or settling\n",
    "       Po\tPoor - Severe cracking, settling, or wetness\n",
    "       NA\tNo Basement\n",
    "\t\n",
    "**BsmtExposure**: Refers to walkout or garden level walls\n",
    "\n",
    "       Gd\tGood Exposure\n",
    "       Av\tAverage Exposure (split levels or foyers typically score average or above)\t\n",
    "       Mn\tMimimum Exposure\n",
    "       No\tNo Exposure\n",
    "       NA\tNo Basement\n",
    "\t\n",
    "**BsmtFinType1**: Rating of basement finished area\n",
    "\n",
    "       GLQ\tGood Living Quarters\n",
    "       ALQ\tAverage Living Quarters\n",
    "       BLQ\tBelow Average Living Quarters\t\n",
    "       Rec\tAverage Rec Room\n",
    "       LwQ\tLow Quality\n",
    "       Unf\tUnfinshed\n",
    "       NA\tNo Basement\n",
    "\t\t\n",
    "**BsmtFinType2**: Rating of basement finished area (if multiple types)\n",
    "\n",
    "       GLQ\tGood Living Quarters\n",
    "       ALQ\tAverage Living Quarters\n",
    "       BLQ\tBelow Average Living Quarters\t\n",
    "       Rec\tAverage Rec Room\n",
    "       LwQ\tLow Quality\n",
    "       Unf\tUnfinshed\n",
    "       NA\tNo Basement\n",
    "       \n",
    "NA means lack of this feature, so we fill missing values with None.       "
   ]
  },
  {
   "cell_type": "code",
   "execution_count": 121,
   "id": "346ac4b8",
   "metadata": {
    "execution": {
     "iopub.execute_input": "2022-01-19T22:50:42.608862Z",
     "iopub.status.busy": "2022-01-19T22:50:42.607811Z",
     "iopub.status.idle": "2022-01-19T22:50:42.617522Z",
     "shell.execute_reply": "2022-01-19T22:50:42.618072Z",
     "shell.execute_reply.started": "2022-01-19T22:39:46.362288Z"
    },
    "papermill": {
     "duration": 0.112419,
     "end_time": "2022-01-19T22:50:42.618249",
     "exception": false,
     "start_time": "2022-01-19T22:50:42.505830",
     "status": "completed"
    },
    "tags": []
   },
   "outputs": [],
   "source": [
    "for col in ('BsmtQual', 'BsmtCond', 'BsmtExposure', 'BsmtFinType1', 'BsmtFinType2'):    \n",
    "    df[col].fillna('None', inplace=True)"
   ]
  },
  {
   "cell_type": "markdown",
   "id": "04fff07a",
   "metadata": {
    "papermill": {
     "duration": 0.099543,
     "end_time": "2022-01-19T22:50:42.818602",
     "exception": false,
     "start_time": "2022-01-19T22:50:42.719059",
     "status": "completed"
    },
    "tags": []
   },
   "source": [
    "**BsmtFinSF1**: Type 1 finished square feet\n",
    "\n",
    "**BsmtFinSF2**: Type 2 finished square feet\n",
    "\n",
    "**BsmtUnfSF**: Unfinished square feet of basement area\n",
    "\n",
    "**TotalBsmtSF**: Total square feet of basement area\n",
    "\n",
    "**BsmtFullBath**: Basement full bathrooms\n",
    "\n",
    "**BsmtHalfBath**: Basement half bathrooms\n",
    "\n",
    "Missing numerical values will be replaced by 0"
   ]
  },
  {
   "cell_type": "code",
   "execution_count": 108,
   "id": "e1e39862",
   "metadata": {
    "execution": {
     "iopub.execute_input": "2022-01-19T22:50:43.444078Z",
     "iopub.status.busy": "2022-01-19T22:50:43.443044Z",
     "iopub.status.idle": "2022-01-19T22:50:43.445278Z",
     "shell.execute_reply": "2022-01-19T22:50:43.445886Z",
     "shell.execute_reply.started": "2022-01-19T22:39:46.395823Z"
    },
    "papermill": {
     "duration": 0.108395,
     "end_time": "2022-01-19T22:50:43.446065",
     "exception": false,
     "start_time": "2022-01-19T22:50:43.337670",
     "status": "completed"
    },
    "tags": []
   },
   "outputs": [],
   "source": [
    "df['MasVnrType'].fillna('None',inplace=True)"
   ]
  },
  {
   "cell_type": "markdown",
   "id": "ed4098eb",
   "metadata": {
    "papermill": {
     "duration": 0.099227,
     "end_time": "2022-01-19T22:50:43.643846",
     "exception": false,
     "start_time": "2022-01-19T22:50:43.544619",
     "status": "completed"
    },
    "tags": []
   },
   "source": [
    "**MasVnrArea** : Masonry veneer area in square feet\n",
    "As an architect I'm astonished this feature even exists. We assume missing values mean no masonry veneer, meaning 0."
   ]
  },
  {
   "cell_type": "code",
   "execution_count": 111,
   "id": "ea0afe58",
   "metadata": {
    "execution": {
     "iopub.execute_input": "2022-01-19T22:50:43.849108Z",
     "iopub.status.busy": "2022-01-19T22:50:43.848101Z",
     "iopub.status.idle": "2022-01-19T22:50:43.852808Z",
     "shell.execute_reply": "2022-01-19T22:50:43.853374Z",
     "shell.execute_reply.started": "2022-01-19T22:39:46.405065Z"
    },
    "papermill": {
     "duration": 0.10822,
     "end_time": "2022-01-19T22:50:43.853544",
     "exception": false,
     "start_time": "2022-01-19T22:50:43.745324",
     "status": "completed"
    },
    "tags": []
   },
   "outputs": [],
   "source": [
    "df['MasVnrArea'].fillna(0,inplace=True)"
   ]
  },
  {
   "cell_type": "markdown",
   "id": "f97e14b5",
   "metadata": {
    "papermill": {
     "duration": 0.10113,
     "end_time": "2022-01-19T22:50:44.055622",
     "exception": false,
     "start_time": "2022-01-19T22:50:43.954492",
     "status": "completed"
    },
    "tags": []
   },
   "source": [
    "**MSZoning**: Identifies the general zoning classification of the sale.\n",
    "\t\t\n",
    "       A\tAgriculture\n",
    "       C\tCommercial\n",
    "       FV\tFloating Village Residential\n",
    "       I\tIndustrial\n",
    "       RH\tResidential High Density\n",
    "       RL\tResidential Low Density\n",
    "       RP\tResidential Low Density Park \n",
    "       RM\tResidential Medium Density\n",
    "       \n",
    "As RL is by far the most common, we take the mode and fill in missing values with RL.       "
   ]
  },
  {
   "cell_type": "code",
   "execution_count": 112,
   "id": "a0971c55",
   "metadata": {
    "execution": {
     "iopub.execute_input": "2022-01-19T22:50:44.479171Z",
     "iopub.status.busy": "2022-01-19T22:50:44.478120Z",
     "iopub.status.idle": "2022-01-19T22:50:44.483483Z",
     "shell.execute_reply": "2022-01-19T22:50:44.484158Z",
     "shell.execute_reply.started": "2022-01-19T22:39:46.433185Z"
    },
    "papermill": {
     "duration": 0.109605,
     "end_time": "2022-01-19T22:50:44.484341",
     "exception": false,
     "start_time": "2022-01-19T22:50:44.374736",
     "status": "completed"
    },
    "tags": []
   },
   "outputs": [],
   "source": [
    "df['MSZoning'].fillna(df['MSZoning'].value_counts().idxmax(), inplace=True)"
   ]
  },
  {
   "cell_type": "markdown",
   "id": "4125aace",
   "metadata": {
    "papermill": {
     "duration": 0.100217,
     "end_time": "2022-01-19T22:50:44.687794",
     "exception": false,
     "start_time": "2022-01-19T22:50:44.587577",
     "status": "completed"
    },
    "tags": []
   },
   "source": [
    "**Utilities**: Type of utilities available\n",
    "\t\t\n",
    "       AllPub\tAll public Utilities (E,G,W,& S)\t\n",
    "       NoSewr\tElectricity, Gas, and Water (Septic Tank)\n",
    "       NoSeWa\tElectricity and Gas Only\n",
    "       ELO\tElectricity only\n",
    "       \n",
    "The value of this feauture is AllPub for most of the dataset, with only 1 NoSeWa feauture. We can fately assume this feauture will not be helpful in predictive modelling, and will remove it.      "
   ]
  },
  {
   "cell_type": "code",
   "execution_count": 113,
   "id": "8214c697",
   "metadata": {
    "execution": {
     "iopub.execute_input": "2022-01-19T22:50:44.894693Z",
     "iopub.status.busy": "2022-01-19T22:50:44.893642Z",
     "iopub.status.idle": "2022-01-19T22:50:44.902962Z",
     "shell.execute_reply": "2022-01-19T22:50:44.903546Z",
     "shell.execute_reply.started": "2022-01-19T22:39:46.442318Z"
    },
    "papermill": {
     "duration": 0.112456,
     "end_time": "2022-01-19T22:50:44.903748",
     "exception": false,
     "start_time": "2022-01-19T22:50:44.791292",
     "status": "completed"
    },
    "tags": []
   },
   "outputs": [
    {
     "data": {
      "text/plain": [
       "AllPub    1430\n",
       "NoSeWa       1\n",
       "Name: Utilities, dtype: int64"
      ]
     },
     "execution_count": 113,
     "metadata": {},
     "output_type": "execute_result"
    }
   ],
   "source": [
    "df['Utilities'].value_counts()"
   ]
  },
  {
   "cell_type": "code",
   "execution_count": 114,
   "id": "2c3869e4",
   "metadata": {
    "execution": {
     "iopub.execute_input": "2022-01-19T22:50:45.114612Z",
     "iopub.status.busy": "2022-01-19T22:50:45.113415Z",
     "iopub.status.idle": "2022-01-19T22:50:45.120395Z",
     "shell.execute_reply": "2022-01-19T22:50:45.121017Z",
     "shell.execute_reply.started": "2022-01-19T22:39:46.456151Z"
    },
    "papermill": {
     "duration": 0.113733,
     "end_time": "2022-01-19T22:50:45.121194",
     "exception": false,
     "start_time": "2022-01-19T22:50:45.007461",
     "status": "completed"
    },
    "tags": []
   },
   "outputs": [],
   "source": [
    "df.drop(['Utilities'], axis=1, inplace=True)"
   ]
  },
  {
   "cell_type": "markdown",
   "id": "4620254f",
   "metadata": {
    "papermill": {
     "duration": 0.099745,
     "end_time": "2022-01-19T22:50:45.321949",
     "exception": false,
     "start_time": "2022-01-19T22:50:45.222204",
     "status": "completed"
    },
    "tags": []
   },
   "source": [
    "**Functional**: Home functionality (Assume typical unless deductions are warranted)\n",
    "\n",
    "       Typ\tTypical Functionality\n",
    "       Min1\tMinor Deductions 1\n",
    "       Min2\tMinor Deductions 2\n",
    "       Mod\tModerate Deductions\n",
    "       Maj1\tMajor Deductions 1\n",
    "       Maj2\tMajor Deductions 2\n",
    "       Sev\tSeverely Damaged\n",
    "       Sal\tSalvage only\n",
    "       \n",
    "Any missing values will be transformed to Typ.     "
   ]
  },
  {
   "cell_type": "code",
   "execution_count": 115,
   "id": "a39d447c",
   "metadata": {
    "execution": {
     "iopub.execute_input": "2022-01-19T22:50:45.528147Z",
     "iopub.status.busy": "2022-01-19T22:50:45.527382Z",
     "iopub.status.idle": "2022-01-19T22:50:45.529514Z",
     "shell.execute_reply": "2022-01-19T22:50:45.530130Z",
     "shell.execute_reply.started": "2022-01-19T22:39:46.469132Z"
    },
    "papermill": {
     "duration": 0.108901,
     "end_time": "2022-01-19T22:50:45.530313",
     "exception": false,
     "start_time": "2022-01-19T22:50:45.421412",
     "status": "completed"
    },
    "tags": []
   },
   "outputs": [],
   "source": [
    "df['Functional'].fillna(df['Functional'].value_counts().idxmax(), inplace=True)"
   ]
  },
  {
   "cell_type": "markdown",
   "id": "30219594",
   "metadata": {
    "papermill": {
     "duration": 0.099762,
     "end_time": "2022-01-19T22:50:45.752017",
     "exception": false,
     "start_time": "2022-01-19T22:50:45.652255",
     "status": "completed"
    },
    "tags": []
   },
   "source": [
    "**Electrical**: Electrical system\n",
    "\n",
    "       SBrkr\tStandard Circuit Breakers & Romex\n",
    "       FuseA\tFuse Box over 60 AMP and all Romex wiring (Average)\t\n",
    "       FuseF\t60 AMP Fuse Box and mostly Romex wiring (Fair)\n",
    "       FuseP\t60 AMP Fuse Box and mostly knob & tube wiring (poor)\n",
    "       Mix\tMixed\n",
    "       \n",
    "It's only NA value will be set to SBrkr.       "
   ]
  },
  {
   "cell_type": "code",
   "execution_count": 116,
   "id": "d3de04a3",
   "metadata": {
    "execution": {
     "iopub.execute_input": "2022-01-19T22:50:45.955185Z",
     "iopub.status.busy": "2022-01-19T22:50:45.954488Z",
     "iopub.status.idle": "2022-01-19T22:50:45.959663Z",
     "shell.execute_reply": "2022-01-19T22:50:45.960183Z",
     "shell.execute_reply.started": "2022-01-19T22:39:46.478745Z"
    },
    "papermill": {
     "duration": 0.108722,
     "end_time": "2022-01-19T22:50:45.960369",
     "exception": false,
     "start_time": "2022-01-19T22:50:45.851647",
     "status": "completed"
    },
    "tags": []
   },
   "outputs": [],
   "source": [
    "df['Electrical'].fillna(df['Electrical'].value_counts().idxmax(), inplace=True)"
   ]
  },
  {
   "cell_type": "markdown",
   "id": "a15c19b5",
   "metadata": {
    "papermill": {
     "duration": 0.099348,
     "end_time": "2022-01-19T22:50:46.160483",
     "exception": false,
     "start_time": "2022-01-19T22:50:46.061135",
     "status": "completed"
    },
    "tags": []
   },
   "source": [
    "**KitchenQual**: Kitchen quality\n",
    "\n",
    "       Ex\tExcellent\n",
    "       Gd\tGood\n",
    "       TA\tTypical/Average\n",
    "       Fa\tFair\n",
    "       Po\tPoor\n",
    "       \n",
    "We replace its only missing value by the mode of TA       "
   ]
  },
  {
   "cell_type": "code",
   "execution_count": 117,
   "id": "5b22b222",
   "metadata": {
    "execution": {
     "iopub.execute_input": "2022-01-19T22:50:46.366098Z",
     "iopub.status.busy": "2022-01-19T22:50:46.365427Z",
     "iopub.status.idle": "2022-01-19T22:50:46.371655Z",
     "shell.execute_reply": "2022-01-19T22:50:46.371017Z",
     "shell.execute_reply.started": "2022-01-19T22:39:46.491648Z"
    },
    "papermill": {
     "duration": 0.110686,
     "end_time": "2022-01-19T22:50:46.371815",
     "exception": false,
     "start_time": "2022-01-19T22:50:46.261129",
     "status": "completed"
    },
    "tags": []
   },
   "outputs": [],
   "source": [
    "df['KitchenQual'].fillna(df['KitchenQual'].value_counts().idxmax(), inplace=True)"
   ]
  },
  {
   "cell_type": "markdown",
   "id": "b7c33240",
   "metadata": {
    "papermill": {
     "duration": 0.100031,
     "end_time": "2022-01-19T22:50:46.573613",
     "exception": false,
     "start_time": "2022-01-19T22:50:46.473582",
     "status": "completed"
    },
    "tags": []
   },
   "source": [
    "**Exterior1st**: Exterior covering on house\n",
    "**Exterior2nd**: Exterior covering on house (if more than one material)\n",
    "\n",
    "       AsbShng\tAsbestos Shingles\n",
    "       AsphShn\tAsphalt Shingles\n",
    "       BrkComm\tBrick Common\n",
    "       BrkFace\tBrick Face\n",
    "       CBlock\tCinder Block\n",
    "       CemntBd\tCement Board\n",
    "       HdBoard\tHard Board\n",
    "       ImStucc\tImitation Stucco\n",
    "       MetalSd\tMetal Siding\n",
    "       Other\tOther\n",
    "       Plywood\tPlywood\n",
    "       PreCast\tPreCast\t\n",
    "       Stone\tStone\n",
    "       Stucco\tStucco\n",
    "       VinylSd\tVinyl Siding\n",
    "       Wd Sdng\tWood Siding\n",
    "       WdShing\tWood Shingles\n",
    "\n",
    "Since both have a single missing value we again replace the most common string as the missing value."
   ]
  },
  {
   "cell_type": "code",
   "execution_count": 118,
   "id": "03a6da87",
   "metadata": {
    "execution": {
     "iopub.execute_input": "2022-01-19T22:50:46.778553Z",
     "iopub.status.busy": "2022-01-19T22:50:46.777899Z",
     "iopub.status.idle": "2022-01-19T22:50:46.783748Z",
     "shell.execute_reply": "2022-01-19T22:50:46.784295Z",
     "shell.execute_reply.started": "2022-01-19T22:39:46.503883Z"
    },
    "papermill": {
     "duration": 0.110716,
     "end_time": "2022-01-19T22:50:46.784469",
     "exception": false,
     "start_time": "2022-01-19T22:50:46.673753",
     "status": "completed"
    },
    "tags": []
   },
   "outputs": [],
   "source": [
    "df['Exterior1st'].fillna(df['Exterior1st'].value_counts().idxmax(), inplace=True)\n",
    "df['Exterior2nd'].fillna(df['Exterior2nd'].value_counts().idxmax(), inplace=True)"
   ]
  },
  {
   "cell_type": "markdown",
   "id": "fb38d170",
   "metadata": {
    "papermill": {
     "duration": 0.101449,
     "end_time": "2022-01-19T22:50:46.986245",
     "exception": false,
     "start_time": "2022-01-19T22:50:46.884796",
     "status": "completed"
    },
    "tags": []
   },
   "source": [
    "**SaleType**: Type of sale\n",
    "\t\t\n",
    "       WD \tWarranty Deed - Conventional\n",
    "       CWD\tWarranty Deed - Cash\n",
    "       VWD\tWarranty Deed - VA Loan\n",
    "       New\tHome just constructed and sold\n",
    "       COD\tCourt Officer Deed/Estate\n",
    "       Con\tContract 15% Down payment regular terms\n",
    "       ConLw\tContract Low Down payment and low interest\n",
    "       ConLI\tContract Low Interest\n",
    "       ConLD\tContract Low Down\n",
    "       Oth\tOther\n",
    "       \n",
    "Missing values will be filled with most frequent type WD       "
   ]
  },
  {
   "cell_type": "code",
   "execution_count": 119,
   "id": "ae4b3aab",
   "metadata": {
    "execution": {
     "iopub.execute_input": "2022-01-19T22:50:47.193309Z",
     "iopub.status.busy": "2022-01-19T22:50:47.192615Z",
     "iopub.status.idle": "2022-01-19T22:50:47.197812Z",
     "shell.execute_reply": "2022-01-19T22:50:47.198331Z",
     "shell.execute_reply.started": "2022-01-19T22:39:46.514544Z"
    },
    "papermill": {
     "duration": 0.110414,
     "end_time": "2022-01-19T22:50:47.198519",
     "exception": false,
     "start_time": "2022-01-19T22:50:47.088105",
     "status": "completed"
    },
    "tags": []
   },
   "outputs": [],
   "source": [
    "df['SaleType'].fillna(df['SaleType'].value_counts().idxmax(), inplace=True)"
   ]
  },
  {
   "cell_type": "markdown",
   "id": "d1ec45aa",
   "metadata": {
    "papermill": {
     "duration": 0.099004,
     "end_time": "2022-01-19T22:50:47.398980",
     "exception": false,
     "start_time": "2022-01-19T22:50:47.299976",
     "status": "completed"
    },
    "tags": []
   },
   "source": [
    "**Missing Values Check**"
   ]
  },
  {
   "cell_type": "code",
   "execution_count": 122,
   "id": "97f4a8b3",
   "metadata": {
    "execution": {
     "iopub.execute_input": "2022-01-19T22:50:47.619125Z",
     "iopub.status.busy": "2022-01-19T22:50:47.618066Z",
     "iopub.status.idle": "2022-01-19T22:50:47.628860Z",
     "shell.execute_reply": "2022-01-19T22:50:47.629321Z",
     "shell.execute_reply.started": "2022-01-19T22:39:46.527986Z"
    },
    "papermill": {
     "duration": 0.130815,
     "end_time": "2022-01-19T22:50:47.629501",
     "exception": false,
     "start_time": "2022-01-19T22:50:47.498686",
     "status": "completed"
    },
    "tags": []
   },
   "outputs": [
    {
     "data": {
      "text/html": [
       "<div>\n",
       "<style scoped>\n",
       "    .dataframe tbody tr th:only-of-type {\n",
       "        vertical-align: middle;\n",
       "    }\n",
       "\n",
       "    .dataframe tbody tr th {\n",
       "        vertical-align: top;\n",
       "    }\n",
       "\n",
       "    .dataframe thead th {\n",
       "        text-align: right;\n",
       "    }\n",
       "</style>\n",
       "<table border=\"1\" class=\"dataframe\">\n",
       "  <thead>\n",
       "    <tr style=\"text-align: right;\">\n",
       "      <th></th>\n",
       "      <th>Missing %</th>\n",
       "    </tr>\n",
       "  </thead>\n",
       "  <tbody>\n",
       "    <tr>\n",
       "      <th>MSSubClass</th>\n",
       "      <td>0.00</td>\n",
       "    </tr>\n",
       "    <tr>\n",
       "      <th>GarageYrBlt</th>\n",
       "      <td>0.00</td>\n",
       "    </tr>\n",
       "    <tr>\n",
       "      <th>Fireplaces</th>\n",
       "      <td>0.00</td>\n",
       "    </tr>\n",
       "    <tr>\n",
       "      <th>Functional</th>\n",
       "      <td>0.00</td>\n",
       "    </tr>\n",
       "    <tr>\n",
       "      <th>TotRmsAbvGrd</th>\n",
       "      <td>0.00</td>\n",
       "    </tr>\n",
       "    <tr>\n",
       "      <th>...</th>\n",
       "      <td>...</td>\n",
       "    </tr>\n",
       "    <tr>\n",
       "      <th>ExterQual</th>\n",
       "      <td>0.00</td>\n",
       "    </tr>\n",
       "    <tr>\n",
       "      <th>MasVnrArea</th>\n",
       "      <td>0.00</td>\n",
       "    </tr>\n",
       "    <tr>\n",
       "      <th>MasVnrType</th>\n",
       "      <td>0.00</td>\n",
       "    </tr>\n",
       "    <tr>\n",
       "      <th>Exterior2nd</th>\n",
       "      <td>0.00</td>\n",
       "    </tr>\n",
       "    <tr>\n",
       "      <th>SalePrice</th>\n",
       "      <td>0.00</td>\n",
       "    </tr>\n",
       "  </tbody>\n",
       "</table>\n",
       "<p>74 rows × 1 columns</p>\n",
       "</div>"
      ],
      "text/plain": [
       "              Missing %\n",
       "MSSubClass         0.00\n",
       "GarageYrBlt        0.00\n",
       "Fireplaces         0.00\n",
       "Functional         0.00\n",
       "TotRmsAbvGrd       0.00\n",
       "...                 ...\n",
       "ExterQual          0.00\n",
       "MasVnrArea         0.00\n",
       "MasVnrType         0.00\n",
       "Exterior2nd        0.00\n",
       "SalePrice          0.00\n",
       "\n",
       "[74 rows x 1 columns]"
      ]
     },
     "execution_count": 122,
     "metadata": {},
     "output_type": "execute_result"
    }
   ],
   "source": [
    "#Creating dataframe with percentages of missing values\n",
    "df_concat_na = (df.isnull().sum() / len(df)) * 100\n",
    "\n",
    "#Sorting by percentages of missing values\n",
    "df_concat_na = df_concat_na.sort_values(ascending=False) \n",
    "\n",
    "missing_values = pd.DataFrame({'Missing %' :df_concat_na})\n",
    "missing_values"
   ]
  },
  {
   "cell_type": "code",
   "execution_count": 125,
   "id": "923ebcd4",
   "metadata": {
    "execution": {
     "iopub.execute_input": "2022-01-19T22:50:48.680504Z",
     "iopub.status.busy": "2022-01-19T22:50:48.679674Z",
     "iopub.status.idle": "2022-01-19T22:50:48.703676Z",
     "shell.execute_reply": "2022-01-19T22:50:48.704352Z",
     "shell.execute_reply.started": "2022-01-19T22:39:46.588729Z"
    },
    "papermill": {
     "duration": 0.12909,
     "end_time": "2022-01-19T22:50:48.704595",
     "exception": false,
     "start_time": "2022-01-19T22:50:48.575505",
     "status": "completed"
    },
    "tags": []
   },
   "outputs": [],
   "source": [
    "#MSSubClass\n",
    "df['MSSubClass'].astype(str)\n",
    "\n",
    "\n",
    "#Changing OverallCond into a categorical variable\n",
    "df['OverallCond'] = df['OverallCond'].astype(str)\n",
    "\n",
    "\n",
    "#Year and month sold are transformed into categorical features.\n",
    "df['YrSold'] = df['YrSold'].astype(str)\n",
    "df['MoSold'] = df['MoSold'].astype(str)"
   ]
  },
  {
   "cell_type": "code",
   "execution_count": 130,
   "id": "77e40605",
   "metadata": {
    "execution": {
     "iopub.execute_input": "2022-01-19T22:50:48.911037Z",
     "iopub.status.busy": "2022-01-19T22:50:48.910377Z",
     "iopub.status.idle": "2022-01-19T22:50:48.998040Z",
     "shell.execute_reply": "2022-01-19T22:50:48.998536Z",
     "shell.execute_reply.started": "2022-01-19T22:39:46.611931Z"
    },
    "papermill": {
     "duration": 0.191899,
     "end_time": "2022-01-19T22:50:48.998771",
     "exception": false,
     "start_time": "2022-01-19T22:50:48.806872",
     "status": "completed"
    },
    "tags": []
   },
   "outputs": [],
   "source": [
    "#List of features to encode\n",
    "cols = ('BsmtQual', 'BsmtCond', 'GarageQual', 'GarageCond', \n",
    "        'ExterQual', 'ExterCond','HeatingQC', 'KitchenQual', 'BsmtFinType1', \n",
    "        'BsmtFinType2', 'Functional', 'BsmtExposure', 'GarageFinish', 'LandSlope',\n",
    "        'LotShape', 'PavedDrive', 'Street', 'CentralAir', 'MSSubClass', 'OverallCond', \n",
    "        'YrSold', 'MoSold')\n",
    "\n",
    "#Applying LabelEncoder to categorical features\n",
    "for i in cols:\n",
    "    le = LabelEncoder() \n",
    "    le.fit(list(df[i].values)) \n",
    "    df[i] = le.transform(list(df[i].values))"
   ]
  },
  {
   "cell_type": "markdown",
   "id": "17a42005",
   "metadata": {
    "papermill": {
     "duration": 0.101997,
     "end_time": "2022-01-19T22:50:49.205130",
     "exception": false,
     "start_time": "2022-01-19T22:50:49.103133",
     "status": "completed"
    },
    "tags": []
   },
   "source": [
    "**Adding a Total sqf feature**\n",
    "\n",
    "Since we've seen the correlation between square footage on SalePrice, adding a feature combing all seperate parameters together seems logical as a great predictor. "
   ]
  },
  {
   "cell_type": "code",
   "execution_count": 131,
   "id": "e8e4cab7",
   "metadata": {
    "execution": {
     "iopub.execute_input": "2022-01-19T22:50:49.462229Z",
     "iopub.status.busy": "2022-01-19T22:50:49.461172Z",
     "iopub.status.idle": "2022-01-19T22:50:49.464143Z",
     "shell.execute_reply": "2022-01-19T22:50:49.463613Z",
     "shell.execute_reply.started": "2022-01-19T22:39:46.673161Z"
    },
    "papermill": {
     "duration": 0.133632,
     "end_time": "2022-01-19T22:50:49.464291",
     "exception": false,
     "start_time": "2022-01-19T22:50:49.330659",
     "status": "completed"
    },
    "tags": []
   },
   "outputs": [],
   "source": [
    "df['TotalSF'] = df['TotalBsmtSF'] + df['1stFlrSF'] + df['2ndFlrSF']"
   ]
  },
  {
   "cell_type": "code",
   "execution_count": 132,
   "id": "6b362fe1",
   "metadata": {},
   "outputs": [],
   "source": [
    "df.drop([\"TotalBsmtSF\",\"1stFlrSF\",\"2ndFlrSF\"],axis=1,inplace=True)"
   ]
  },
  {
   "cell_type": "markdown",
   "id": "e625b37c",
   "metadata": {
    "papermill": {
     "duration": 0.103584,
     "end_time": "2022-01-19T22:50:49.682890",
     "exception": false,
     "start_time": "2022-01-19T22:50:49.579306",
     "status": "completed"
    },
    "tags": []
   },
   "source": [
    "### Skewness and Box Cox Transformation\n",
    "Calculating degree of skewness and computing Box Cox transformation of 1 + x\n",
    "\n",
    "*Note: applying Box Cox transformation to both datasets at once will lead to data leakage and will be addressed in future versions.*"
   ]
  },
  {
   "cell_type": "code",
   "execution_count": 146,
   "id": "fa73b150",
   "metadata": {},
   "outputs": [
    {
     "data": {
      "text/html": [
       "<div>\n",
       "<style scoped>\n",
       "    .dataframe tbody tr th:only-of-type {\n",
       "        vertical-align: middle;\n",
       "    }\n",
       "\n",
       "    .dataframe tbody tr th {\n",
       "        vertical-align: top;\n",
       "    }\n",
       "\n",
       "    .dataframe thead th {\n",
       "        text-align: right;\n",
       "    }\n",
       "</style>\n",
       "<table border=\"1\" class=\"dataframe\">\n",
       "  <thead>\n",
       "    <tr style=\"text-align: right;\">\n",
       "      <th></th>\n",
       "      <th>Skew</th>\n",
       "    </tr>\n",
       "  </thead>\n",
       "  <tbody>\n",
       "    <tr>\n",
       "      <th>MiscVal</th>\n",
       "      <td>24.21</td>\n",
       "    </tr>\n",
       "    <tr>\n",
       "      <th>PoolArea</th>\n",
       "      <td>19.33</td>\n",
       "    </tr>\n",
       "    <tr>\n",
       "      <th>LotArea</th>\n",
       "      <td>12.87</td>\n",
       "    </tr>\n",
       "    <tr>\n",
       "      <th>LowQualFinSF</th>\n",
       "      <td>10.39</td>\n",
       "    </tr>\n",
       "    <tr>\n",
       "      <th>3SsnPorch</th>\n",
       "      <td>10.19</td>\n",
       "    </tr>\n",
       "    <tr>\n",
       "      <th>LandSlope</th>\n",
       "      <td>4.87</td>\n",
       "    </tr>\n",
       "    <tr>\n",
       "      <th>KitchenAbvGr</th>\n",
       "      <td>4.47</td>\n",
       "    </tr>\n",
       "    <tr>\n",
       "      <th>BsmtFinSF2</th>\n",
       "      <td>4.26</td>\n",
       "    </tr>\n",
       "    <tr>\n",
       "      <th>ScreenPorch</th>\n",
       "      <td>4.13</td>\n",
       "    </tr>\n",
       "    <tr>\n",
       "      <th>BsmtHalfBath</th>\n",
       "      <td>4.12</td>\n",
       "    </tr>\n",
       "  </tbody>\n",
       "</table>\n",
       "</div>"
      ],
      "text/plain": [
       "              Skew\n",
       "MiscVal      24.21\n",
       "PoolArea     19.33\n",
       "LotArea      12.87\n",
       "LowQualFinSF 10.39\n",
       "3SsnPorch    10.19\n",
       "LandSlope     4.87\n",
       "KitchenAbvGr  4.47\n",
       "BsmtFinSF2    4.26\n",
       "ScreenPorch   4.13\n",
       "BsmtHalfBath  4.12"
      ]
     },
     "execution_count": 146,
     "metadata": {},
     "output_type": "execute_result"
    }
   ],
   "source": [
    "numeric_feats = df.dtypes[df.dtypes != \"object\"].index\n",
    "\n",
    "#Check the skew of all numerical features\n",
    "skewed_feats = df[numeric_feats].apply(skew).sort_values(ascending=False)\n",
    "skewness = pd.DataFrame({'Skew' :skewed_feats})\n",
    "skewness.head(10)"
   ]
  },
  {
   "cell_type": "code",
   "execution_count": 157,
   "id": "b62168d3",
   "metadata": {
    "execution": {
     "iopub.execute_input": "2022-01-19T22:50:50.146392Z",
     "iopub.status.busy": "2022-01-19T22:50:50.145230Z",
     "iopub.status.idle": "2022-01-19T22:50:50.168022Z",
     "shell.execute_reply": "2022-01-19T22:50:50.167365Z",
     "shell.execute_reply.started": "2022-01-19T22:39:46.718689Z"
    },
    "papermill": {
     "duration": 0.132285,
     "end_time": "2022-01-19T22:50:50.168187",
     "exception": false,
     "start_time": "2022-01-19T22:50:50.035902",
     "status": "completed"
    },
    "tags": []
   },
   "outputs": [],
   "source": [
    "skewness = skewness[abs(skewness.Skew)>0.75]\n",
    "skewed_features = skewness.index\n",
    "lam = 0.15\n",
    "for feat in skewed_features:\n",
    "    #df_concat[feat] += 1\n",
    "    df[feat] = boxcox1p(df[feat], lam)"
   ]
  },
  {
   "cell_type": "markdown",
   "id": "853fdc69",
   "metadata": {
    "papermill": {
     "duration": 0.101124,
     "end_time": "2022-01-19T22:50:50.371942",
     "exception": false,
     "start_time": "2022-01-19T22:50:50.270818",
     "status": "completed"
    },
    "tags": []
   },
   "source": [
    "**Dummy Variables**"
   ]
  },
  {
   "cell_type": "code",
   "execution_count": 158,
   "id": "7698909d",
   "metadata": {
    "execution": {
     "iopub.execute_input": "2022-01-19T22:50:50.583923Z",
     "iopub.status.busy": "2022-01-19T22:50:50.583209Z",
     "iopub.status.idle": "2022-01-19T22:50:50.607672Z",
     "shell.execute_reply": "2022-01-19T22:50:50.608352Z",
     "shell.execute_reply.started": "2022-01-19T22:39:46.745228Z"
    },
    "papermill": {
     "duration": 0.135521,
     "end_time": "2022-01-19T22:50:50.608540",
     "exception": false,
     "start_time": "2022-01-19T22:50:50.473019",
     "status": "completed"
    },
    "tags": []
   },
   "outputs": [],
   "source": [
    "df = pd.get_dummies(df)"
   ]
  },
  {
   "cell_type": "code",
   "execution_count": 169,
   "id": "74c1c318",
   "metadata": {},
   "outputs": [],
   "source": [
    "from sklearn.model_selection import train_test_split\n",
    "X = df.drop(\"SalePrice\",axis=1)\n",
    "y = df.SalePrice\n",
    "X_train, X_test, y_train, y_test = train_test_split(X, y, test_size=0.30, random_state=42)"
   ]
  },
  {
   "cell_type": "code",
   "execution_count": 170,
   "id": "43e4c364",
   "metadata": {},
   "outputs": [
    {
     "data": {
      "text/plain": [
       "LinearRegression()"
      ]
     },
     "execution_count": 170,
     "metadata": {},
     "output_type": "execute_result"
    }
   ],
   "source": [
    "from sklearn.linear_model import LinearRegression\n",
    "regressor = LinearRegression()\n",
    "regressor.fit(X_train, y_train)"
   ]
  },
  {
   "cell_type": "code",
   "execution_count": 175,
   "id": "228e42b0",
   "metadata": {},
   "outputs": [
    {
     "name": "stdout",
     "output_type": "stream",
     "text": [
      "Mean Absolute Error: 0.08399581484207481\n",
      "Mean Squared Error: 0.014729486408912995\n",
      "Root Mean Squared Error: 0.12136509551313752\n"
     ]
    }
   ],
   "source": [
    "y_pred = regressor.predict(X_test)\n",
    "from sklearn import metrics\n",
    "print('Mean Absolute Error:', metrics.mean_absolute_error(y_test, y_pred))\n",
    "print('Mean Squared Error:', metrics.mean_squared_error(y_test, y_pred))\n",
    "print('Root Mean Squared Error:', np.sqrt(metrics.mean_squared_error(y_test, y_pred)))"
   ]
  },
  {
   "cell_type": "code",
   "execution_count": 176,
   "id": "59531472",
   "metadata": {},
   "outputs": [
    {
     "data": {
      "text/plain": [
       "0.9004116363295784"
      ]
     },
     "execution_count": 176,
     "metadata": {},
     "output_type": "execute_result"
    }
   ],
   "source": [
    "from sklearn.metrics import r2_score\n",
    "r2_score(y_test, y_pred)"
   ]
  },
  {
   "cell_type": "code",
   "execution_count": null,
   "id": "64b51617",
   "metadata": {},
   "outputs": [],
   "source": []
  }
 ],
 "metadata": {
  "kernelspec": {
   "display_name": "Python 3 (ipykernel)",
   "language": "python",
   "name": "python3"
  },
  "language_info": {
   "codemirror_mode": {
    "name": "ipython",
    "version": 3
   },
   "file_extension": ".py",
   "mimetype": "text/x-python",
   "name": "python",
   "nbconvert_exporter": "python",
   "pygments_lexer": "ipython3",
   "version": "3.9.7"
  },
  "papermill": {
   "default_parameters": {},
   "duration": 530.402505,
   "end_time": "2022-01-19T22:59:05.581823",
   "environment_variables": {},
   "exception": null,
   "input_path": "__notebook__.ipynb",
   "output_path": "__notebook__.ipynb",
   "parameters": {},
   "start_time": "2022-01-19T22:50:15.179318",
   "version": "2.3.3"
  }
 },
 "nbformat": 4,
 "nbformat_minor": 5
}
